{
 "cells": [
  {
   "cell_type": "markdown",
   "id": "cdb7ddb4-7f64-4d20-9c84-be5a8cdbfbb6",
   "metadata": {},
   "source": [
    "# Algebric Expressions\n",
    "### Excercise 4.3"
   ]
  },
  {
   "cell_type": "code",
   "execution_count": 135,
   "id": "1fe28858-d4f9-4d45-8205-57601cbbc950",
   "metadata": {},
   "outputs": [],
   "source": [
    "import sympy as sym\n",
    "from IPython.display import display,Math"
   ]
  },
  {
   "cell_type": "markdown",
   "id": "7bf20f7b-4594-4f07-9d0d-2e6c59594bd9",
   "metadata": {},
   "source": [
    "**1 Find the value of each of the following algebric expression**"
   ]
  },
  {
   "cell_type": "markdown",
   "id": "c80030b1-54c4-4cfa-b8b2-2042ccc3c51b",
   "metadata": {},
   "source": [
    "**(i)**"
   ]
  },
  {
   "cell_type": "code",
   "execution_count": 136,
   "id": "7476b1e9-f7a6-4005-ac08-61447b3f1e02",
   "metadata": {},
   "outputs": [
    {
     "data": {
      "text/plain": [
       "17"
      ]
     },
     "execution_count": 136,
     "metadata": {},
     "output_type": "execute_result"
    }
   ],
   "source": [
    "x=2\n",
    "y=-1\n",
    "z=3\n",
    "\n",
    "\n",
    "2*x**2 - 3*y*z"
   ]
  },
  {
   "cell_type": "markdown",
   "id": "6715e1ba-b048-410e-b94d-8218db80f6d6",
   "metadata": {},
   "source": [
    "**(ii)**"
   ]
  },
  {
   "cell_type": "code",
   "execution_count": 137,
   "id": "1b932c2d-4576-4789-99e6-537d6617f34a",
   "metadata": {},
   "outputs": [
    {
     "data": {
      "text/plain": [
       "114"
      ]
     },
     "execution_count": 137,
     "metadata": {},
     "output_type": "execute_result"
    }
   ],
   "source": [
    "x=3\n",
    "\n",
    "2*x**4 - 3*x**3 + 4*x**2 - 2*x + 3"
   ]
  },
  {
   "cell_type": "markdown",
   "id": "d82d90d0-cab8-4fe1-b1ec-55e01c9e3b26",
   "metadata": {},
   "source": [
    "**(iii)**"
   ]
  },
  {
   "cell_type": "code",
   "execution_count": 138,
   "id": "eca33549-b47e-4744-991a-95fe2083d951",
   "metadata": {},
   "outputs": [
    {
     "data": {
      "text/plain": [
       "4"
      ]
     },
     "execution_count": 138,
     "metadata": {},
     "output_type": "execute_result"
    }
   ],
   "source": [
    "a=0\n",
    "b=4\n",
    "c=1\n",
    "\n",
    "4*a**2 - 3*a*b + b*c"
   ]
  },
  {
   "cell_type": "markdown",
   "id": "1e1a35d6-6b99-45d1-9e04-89798b208144",
   "metadata": {},
   "source": [
    "**(iv)**"
   ]
  },
  {
   "cell_type": "code",
   "execution_count": 160,
   "id": "f6cb331b-612e-43e2-aa64-0cf92095c577",
   "metadata": {},
   "outputs": [
    {
     "data": {
      "text/latex": [
       "$\\displaystyle -0.00781928757602085$"
      ],
      "text/plain": [
       "<IPython.core.display.Math object>"
      ]
     },
     "metadata": {},
     "output_type": "display_data"
    }
   ],
   "source": [
    "x=2\n",
    "y=-1\n",
    "z=3\n",
    "a=4\n",
    "c=1/3\n",
    "\n",
    "\n",
    "e1 = (5*x*y + 3*z) / (2*a**3 - c**2)\n",
    "\n",
    "display(Math(sym.latex(sym.simplify(e1))))"
   ]
  },
  {
   "cell_type": "markdown",
   "id": "f4e1b917-f096-472b-ae8f-fe5c5dec1616",
   "metadata": {},
   "source": [
    "**(v)**"
   ]
  },
  {
   "cell_type": "code",
   "execution_count": 140,
   "id": "c08e6506-ad91-4deb-b55e-0714cc3501f5",
   "metadata": {},
   "outputs": [
    {
     "data": {
      "text/latex": [
       "$\\displaystyle - \\frac{b c}{x + 1} + \\frac{3 x^{2} y}{z}$"
      ],
      "text/plain": [
       "<IPython.core.display.Math object>"
      ]
     },
     "metadata": {},
     "output_type": "display_data"
    }
   ],
   "source": [
    "import sympy as sym\n",
    "from IPython.display import display,Math\n",
    "\n",
    "x,y,z,b,c = sym.symbols('x y z b c')\n",
    "\n",
    "e1 = (3*x**2*y) / z \n",
    "e2 = b*c / (x+1)\n",
    "\n",
    "\n",
    "display(Math(sym.latex(e1 - e2)))\n"
   ]
  },
  {
   "cell_type": "code",
   "execution_count": 141,
   "id": "2942100d-9186-4960-92be-0cbb17335781",
   "metadata": {},
   "outputs": [
    {
     "data": {
      "text/latex": [
       "$\\displaystyle -4.44444444444444$"
      ],
      "text/plain": [
       "<IPython.core.display.Math object>"
      ]
     },
     "metadata": {},
     "output_type": "display_data"
    }
   ],
   "source": [
    "\n",
    "x=2\n",
    "y=-1\n",
    "z=3\n",
    "b=4\n",
    "c=1/3\n",
    "\n",
    "e1 = (3*x**2*y) / z \n",
    "e2 = b*c / (x+1)\n",
    "\n",
    "\n",
    "display(Math(sym.latex(sym.simplify( e1 - e2 ))))"
   ]
  },
  {
   "cell_type": "markdown",
   "id": "8043d71b-32ef-4973-a13b-1a46f1df27b8",
   "metadata": {},
   "source": [
    "**(vi)**"
   ]
  },
  {
   "cell_type": "code",
   "execution_count": 142,
   "id": "971665c0-0146-4d5c-88ac-c2018a606c3a",
   "metadata": {},
   "outputs": [
    {
     "data": {
      "text/latex": [
       "$\\displaystyle \\frac{4 x^{2} y \\left(z - 1\\right)}{a + b - 3 c}$"
      ],
      "text/plain": [
       "<IPython.core.display.Math object>"
      ]
     },
     "metadata": {},
     "output_type": "display_data"
    }
   ],
   "source": [
    "x,y,z,a, b,c = sym.symbols('x y z a b c')\n",
    "\n",
    "e1 = 4*x**2*y*(z-1) \n",
    "e2 = a+b - 3*c\n",
    "\n",
    "display(Math(sym.latex(e1 / e2)))\n"
   ]
  },
  {
   "cell_type": "code",
   "execution_count": 143,
   "id": "5ff6ce9e-b1cd-47f4-acd3-3ff7df7cedf5",
   "metadata": {},
   "outputs": [
    {
     "data": {
      "text/latex": [
       "$\\displaystyle -10.6666666666667$"
      ],
      "text/plain": [
       "<IPython.core.display.Math object>"
      ]
     },
     "metadata": {},
     "output_type": "display_data"
    }
   ],
   "source": [
    "\n",
    "x=2\n",
    "y=-1\n",
    "z=3\n",
    "a=0\n",
    "b=4\n",
    "c=1/3\n",
    "\n",
    "e1 = 4*x**2*y*(z-1) \n",
    "e2 = (a+b)-3*c\n",
    "\n",
    "e1/e2\n",
    "display(Math(sym.latex(sym.simplify( e1 / e2 ))))"
   ]
  },
  {
   "cell_type": "markdown",
   "id": "8e66c27b-1a3e-4b98-b34d-4a1ec4119f22",
   "metadata": {},
   "source": [
    "**2. if p(x) = 2x^4 + 3x^3 - x - 5, then find p(-2).**"
   ]
  },
  {
   "cell_type": "code",
   "execution_count": 148,
   "id": "88034efa-46ca-40e8-ad87-66d69dd3cb85",
   "metadata": {},
   "outputs": [
    {
     "data": {
      "text/latex": [
       "$\\displaystyle 5$"
      ],
      "text/plain": [
       "<IPython.core.display.Math object>"
      ]
     },
     "metadata": {},
     "output_type": "display_data"
    }
   ],
   "source": [
    "x=-2\n",
    "\n",
    "e1 = 2*x**4 + 3*x**3 - x - 5\n",
    "\n",
    "\n",
    "display(Math(sym.latex(sym.simplify( e1 ))))"
   ]
  },
  {
   "cell_type": "markdown",
   "id": "a4539655-fe78-4251-ace7-5c61c62999d5",
   "metadata": {},
   "source": [
    "**3. If q = pf / p - 6 then find q when p = 10, f = 30**"
   ]
  },
  {
   "cell_type": "code",
   "execution_count": 149,
   "id": "7ee0f6e7-dc75-4e9e-809c-1ea0c5567513",
   "metadata": {},
   "outputs": [
    {
     "data": {
      "text/latex": [
       "$\\displaystyle 75.0$"
      ],
      "text/plain": [
       "<IPython.core.display.Math object>"
      ]
     },
     "metadata": {},
     "output_type": "display_data"
    }
   ],
   "source": [
    "p=10\n",
    "f=30\n",
    "\n",
    "q = (p*f) / (p-6)\n",
    "\n",
    "display(Math(sym.latex(sym.simplify(q ))))"
   ]
  },
  {
   "cell_type": "markdown",
   "id": "c49ac17f-8a32-4882-a939-2a4b35189279",
   "metadata": {},
   "source": [
    "**4. If S = n/2 (2a + (n-1)d) , find the value of S when n = 5, a = 2, and d = 3**"
   ]
  },
  {
   "cell_type": "code",
   "execution_count": 150,
   "id": "7dbc91b4-4856-4568-a99b-3ceb265bd19a",
   "metadata": {},
   "outputs": [
    {
     "data": {
      "text/latex": [
       "$\\displaystyle 40.0$"
      ],
      "text/plain": [
       "<IPython.core.display.Math object>"
      ]
     },
     "metadata": {},
     "output_type": "display_data"
    }
   ],
   "source": [
    "n=5\n",
    "a=2\n",
    "d=3\n",
    "\n",
    "S = (n/2) * (2*a + (n - 1) * d)\n",
    "\n",
    "display(Math(sym.latex(sym.simplify(S))))"
   ]
  },
  {
   "cell_type": "markdown",
   "id": "5c81bbe7-2b5b-4e9c-b2bd-194585d4a185",
   "metadata": {},
   "source": [
    "**5. If S = vt + 1/2 at^2, find the value of S when v = 0, t = 4 and a = 5**"
   ]
  },
  {
   "cell_type": "code",
   "execution_count": 151,
   "id": "2c8be5db-45d4-4a41-86a1-55f77bfdb926",
   "metadata": {},
   "outputs": [
    {
     "data": {
      "text/latex": [
       "$\\displaystyle 40.0$"
      ],
      "text/plain": [
       "<IPython.core.display.Math object>"
      ]
     },
     "metadata": {},
     "output_type": "display_data"
    }
   ],
   "source": [
    "v = 0\n",
    "t = 4\n",
    "a = 5\n",
    "\n",
    "S = v*t + (1/2) * (a*t**2)\n",
    "\n",
    "display(Math(sym.latex(sym.simplify( S ))))"
   ]
  },
  {
   "cell_type": "code",
   "execution_count": null,
   "id": "13083563-4edf-4772-8b12-7cb931d43014",
   "metadata": {},
   "outputs": [],
   "source": []
  },
  {
   "cell_type": "code",
   "execution_count": null,
   "id": "10a08ded-43bf-4bc0-8134-9a489c99b001",
   "metadata": {},
   "outputs": [],
   "source": []
  },
  {
   "cell_type": "code",
   "execution_count": null,
   "id": "0b9909ad-7f84-43cd-a4cd-38068e97f5b9",
   "metadata": {},
   "outputs": [],
   "source": []
  }
 ],
 "metadata": {
  "kernelspec": {
   "display_name": "Python 3",
   "language": "python",
   "name": "python3"
  },
  "language_info": {
   "codemirror_mode": {
    "name": "ipython",
    "version": 3
   },
   "file_extension": ".py",
   "mimetype": "text/x-python",
   "name": "python",
   "nbconvert_exporter": "python",
   "pygments_lexer": "ipython3",
   "version": "3.8.8"
  }
 },
 "nbformat": 4,
 "nbformat_minor": 5
}
